{
 "cells": [
  {
   "cell_type": "code",
   "execution_count": 2,
   "metadata": {},
   "outputs": [],
   "source": [
    "from detectron.datasets.dummy_datasets import get_coco_dataset\n",
    "import numpy as np"
   ]
  },
  {
   "cell_type": "code",
   "execution_count": 3,
   "metadata": {},
   "outputs": [
    {
     "data": {
      "text/plain": [
       "81"
      ]
     },
     "execution_count": 3,
     "metadata": {},
     "output_type": "execute_result"
    }
   ],
   "source": [
    "coco_cls = classes = np.array(get_coco_dataset().classes.values(),dtype=str)\n",
    "len(coco_cls)"
   ]
  },
  {
   "cell_type": "code",
   "execution_count": 4,
   "metadata": {},
   "outputs": [
    {
     "data": {
      "text/plain": [
       "numpy.ndarray"
      ]
     },
     "execution_count": 4,
     "metadata": {},
     "output_type": "execute_result"
    }
   ],
   "source": [
    "type(coco_cls)"
   ]
  },
  {
   "cell_type": "code",
   "execution_count": 5,
   "metadata": {},
   "outputs": [
    {
     "data": {
      "text/plain": [
       "numpy.string_"
      ]
     },
     "execution_count": 5,
     "metadata": {},
     "output_type": "execute_result"
    }
   ],
   "source": [
    "type(coco_cls[0])"
   ]
  },
  {
   "cell_type": "code",
   "execution_count": 6,
   "metadata": {},
   "outputs": [],
   "source": [
    "voc_cls = np.array(['__background__',\n",
    "    'aeroplane', 'bicycle', 'bird','boat','bottle','bus','car',\n",
    "    'cat','chair','cow','diningtable','dog','horse','motorbike',\n",
    "    'person','pottedplant','sheep','sofa','train','tvmonitor'])"
   ]
  },
  {
   "cell_type": "code",
   "execution_count": 7,
   "metadata": {},
   "outputs": [
    {
     "name": "stdout",
     "output_type": "stream",
     "text": [
      "['__background__' 'person' 'bicycle' 'car' 'motorcycle' 'airplane' 'bus'\n",
      " 'train' 'truck' 'boat' 'traffic light' 'fire hydrant' 'stop sign'\n",
      " 'parking meter' 'bench' 'bird' 'cat' 'dog' 'horse' 'sheep' 'cow'\n",
      " 'elephant' 'bear' 'zebra' 'giraffe' 'backpack' 'umbrella' 'handbag' 'tie'\n",
      " 'suitcase' 'frisbee' 'skis' 'snowboard' 'sports ball' 'kite'\n",
      " 'baseball bat' 'baseball glove' 'skateboard' 'surfboard' 'tennis racket'\n",
      " 'bottle' 'wine glass' 'cup' 'fork' 'knife' 'spoon' 'bowl' 'banana'\n",
      " 'apple' 'sandwich' 'orange' 'broccoli' 'carrot' 'hot dog' 'pizza' 'donut'\n",
      " 'cake' 'chair' 'couch' 'potted plant' 'bed' 'dining table' 'toilet' 'tv'\n",
      " 'laptop' 'mouse' 'remote' 'keyboard' 'cell phone' 'microwave' 'oven'\n",
      " 'toaster' 'sink' 'refrigerator' 'book' 'clock' 'vase' 'scissors'\n",
      " 'teddy bear' 'hair drier' 'toothbrush']\n"
     ]
    }
   ],
   "source": [
    "cocos = set(coco_cls)\n",
    "vocs = set(voc_cls)\n",
    "print(coco_cls)"
   ]
  },
  {
   "cell_type": "code",
   "execution_count": 8,
   "metadata": {},
   "outputs": [],
   "source": [
    "mapper = {v:v for v in voc_cls}\n",
    "\n",
    "diffs = {'aeroplane':'airplane',\n",
    "         'diningtable': 'dining table',\n",
    "         'motorbike': 'motorcycle',\n",
    "         'pottedplant':'potted plant',\n",
    "         'sofa':'couch',\n",
    "         'tvmonitor':'tv'}\n",
    "\n",
    "mapper.update(diffs)\n",
    "\n",
    "for voc in voc_cls:\n",
    "    voc = mapper[voc]\n",
    "    if voc not in cocos:\n",
    "        print(voc)"
   ]
  },
  {
   "cell_type": "code",
   "execution_count": 9,
   "metadata": {},
   "outputs": [
    {
     "data": {
      "text/plain": [
       "array([ 0, 15,  2,  7, 14,  1,  6, 19,  0,  4,  0,  0,  0,  0,  0,  3,  8,\n",
       "       12, 13, 17, 10,  0,  0,  0,  0,  0,  0,  0,  0,  0,  0,  0,  0,  0,\n",
       "        0,  0,  0,  0,  0,  0,  5,  0,  0,  0,  0,  0,  0,  0,  0,  0,  0,\n",
       "        0,  0,  0,  0,  0,  0,  9, 18, 16,  0, 11,  0, 20,  0,  0,  0,  0,\n",
       "        0,  0,  0,  0,  0,  0,  0,  0,  0,  0,  0,  0,  0])"
      ]
     },
     "execution_count": 9,
     "metadata": {},
     "output_type": "execute_result"
    }
   ],
   "source": [
    "inv_map = {v:v for v in coco_cls}\n",
    "inv_map.update({v:k for k,v in mapper.items()})\n",
    "def find(voc_class):\n",
    "    if voc_class in vocs:\n",
    "        return np.where(voc_cls == voc_class)[0][0]\n",
    "    else:\n",
    "        return 0 # outlier classes are labelled as background = 0\n",
    "        \n",
    "coco2voc = np.array([\n",
    "    find(inv_map[coc]) for coc in coco_cls\n",
    "])\n",
    "coco2voc"
   ]
  },
  {
   "cell_type": "code",
   "execution_count": 10,
   "metadata": {},
   "outputs": [
    {
     "data": {
      "text/plain": [
       "-20"
      ]
     },
     "execution_count": 10,
     "metadata": {},
     "output_type": "execute_result"
    }
   ],
   "source": [
    "sum(coco2voc == 0) - 81"
   ]
  },
  {
   "cell_type": "code",
   "execution_count": null,
   "metadata": {},
   "outputs": [],
   "source": []
  }
 ],
 "metadata": {
  "kernelspec": {
   "display_name": "Python 2",
   "language": "python",
   "name": "python2"
  },
  "language_info": {
   "codemirror_mode": {
    "name": "ipython",
    "version": 2
   },
   "file_extension": ".py",
   "mimetype": "text/x-python",
   "name": "python",
   "nbconvert_exporter": "python",
   "pygments_lexer": "ipython2",
   "version": "2.7.15"
  }
 },
 "nbformat": 4,
 "nbformat_minor": 2
}
